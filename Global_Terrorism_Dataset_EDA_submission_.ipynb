<a href="https://colab.research.google.com/github/Amrit007-droid/Global-Terrorism-Dataset-EDA-/blob/main/Global_Terrorism_Dataset_EDA_submission_.ipynb" target="_parent"><img src="https://colab.research.google.com/assets/colab-badge.svg" alt="Open In Colab"/></a>
# **Project Name**    -


##### **Project Type**    - EDA(Global Terrorism Dataset)
##### **Contribution**    - Individual
##### **Author -** Amrit Pratim Saikia

# **Project Summary -**
The objective of this project is to conduct an exploratory data analysis (EDA) of the Global Terrorism Database (GTD), an open-source dataset that contains comprehensive information on both domestic and international terrorist attacks occurring globally from 1970 to 2017. Developed and maintained by the National Consortium for the Study of Terrorism and Responses to Terrorism (START) at the University of Maryland, the database encompasses details of over 180,000 recorded terrorist incidents. The project's principal aim is to dig deep into this expansive dataset, identify significant trends, patterns, and insights pertaining to terrorism-related activities, and present these discoveries visually for an enhanced understanding.

A critical aspect of this project is the extensive use of Python libraries tailored for data analysis and visualization. The cornerstone of data manipulation, including loading the dataset, cleaning data, and executing sophisticated aggregation operations, will be the Pandas library. This powerful, high-performance tool offers efficient data structures and makes the handling of large datasets effortless.

To facilitate advanced numerical operations and speed up computation, the project employs the NumPy library. Given its proficiency in handling multi-dimensional arrays and matrices, NumPy is the perfect companion for data processing operations.

The project doesn't stop at numerical data analysis; it brings the extracted insights to life through vivid, informative visualizations, courtesy of the Matplotlib and Seaborn libraries. These libraries provide an array of visualization styles, enabling the display of data in ways that are both appealing and informative. From bar plots and scatter plots to histograms and heatmaps, the project will utilize a minimum of five different visualizations to reveal relationships between variables and provide a graphical representation of the dataset's characteristics.

Exploring the GTD through this project will pave the way for an intricate understanding of terrorism patterns over the past decades. The goal is to unveil potential trends in attack frequency, most targeted countries, preferred methods of attack, types of weapons used, casualties, and the evolution of terrorist organizations, among other relevant dimensions.

By examining these factors, the project aims to provide a detailed overview of global terrorism trends, informing counter-terrorism strategies and policies. Additionally, the findings may also help understand the characteristics of regions prone to attacks and the reasons behind their vulnerability.

In conclusion, this project offers a data-driven exploration into the dark world of terrorism, aiming to shed light on the complex patterns hidden within the enormity of the GTD. The end product of this project will be an array of valuable insights that have the potential to contribute substantially to ongoing counter-terrorism efforts and inform future research in this field. The combination of data manipulation, numerical computation, and graphic visualization is expected to yield a robust and comprehensive exploration of the dataset, leading to substantial key findings pertaining to global terrorism.


# **GitHub Link -**
https://github.com/Amrit007-droid/Global-Terrorism-Dataset-EDA-.git
# **Problem Statement**


By employing exploratory data analysis (EDA) methods on the Global Terrorism Database (GTD), the goal is to pinpoint global hotspots of terrorism and understand the changing trends in terrorist activities. Through this analysis, we aim to extract insights pertinent to security concerns, which could play a crucial role in formulating effective counter-terrorism strategies.
#### **Define Your Business Objective?**
The business objective of this project is to leverage the data contained within the Global Terrorism Database (GTD) to derive actionable insights into terrorist activities worldwide from 1970 to 2017. By conducting a comprehensive exploratory data analysis (EDA), the goal is to identify the key patterns, trends, and correlations related to global terrorism, thereby enabling better-informed decision-making for security analysts, policy-makers, and counter-terrorism agencies.

Specifically, the objectives include:

*   Identification of global "hot zones" for terrorist activities: By determining the most affected regions, we can better understand where resources might be best allocated to prevent future attacks.
*   Analysis of frequency and intensity of attacks: Understanding how these have evolved over time can provide insights into the changing dynamics of terrorism and allow for more accurate risk assessments.

*   Examination of methodologies and weapons used in attacks: This can shed light on the operational preferences of terrorist organizations and potentially provide early indicators of future threats.
*   Assessment of casualty trends: This can help identify the most devastating types of attacks and allow for targeted response planning to minimize human loss.

*   Unveiling patterns related to terrorist organizations: This can potentially aid in understanding their strategies, thereby supporting intelligence agencies in their counter-terrorism efforts.







# **General Guidelines** : -  
1.   Well-structured, formatted, and commented code is required.
2.   Exception Handling, Production Grade Code & Deployment Ready Code will be a plus. Those students will be awarded some additional credits.
     
     The additional credits will have advantages over other students during Star Student selection.
       
             [ Note: - Deployment Ready Code is defined as, the whole .ipynb notebook should be executable in one go
                       without a single error logged. ]

3.   Each and every logic should have proper comments.
4. You may add as many number of charts you want. Make Sure for each and every chart the following format should be answered.
        

```
# Chart visualization code
```
            

*   Why did you pick the specific chart?
*   What is/are the insight(s) found from the chart?
* Will the gained insights help creating a positive business impact?
Are there any insights that lead to negative growth? Justify with specific reason.

5. You have to create at least 20 logical & meaningful charts having important insights.


[ Hints : - Do the Vizualization in  a structured way while following "UBM" Rule.

U - Univariate Analysis,

B - Bivariate Analysis (Numerical - Categorical, Numerical - Numerical, Categorical - Categorical)

M - Multivariate Analysis
 ]




# ***Let's Begin !***
## ***1. Know Your Data***
### Import Libraries
# Import Libraries
import numpy as np
import pandas as pd
import matplotlib.pyplot as plt
import seaborn as sns
import plotly.express as px
import warnings
warnings.filterwarnings('ignore')
### Dataset Loading
# Load Dataset
from google.colab import drive
drive.mount('/content/drive/')
df = pd.read_csv('/content/drive/MyDrive/EDA: Global Terrorism Dataset/Global Terrorism Data.csv', encoding="latin1")
### Dataset First View
# Dataset First Look
df
### Dataset Rows & Columns count
# Dataset Rows & Columns count
rows, cols = df.shape
print(f"The dataset has {rows} rows and {cols} columns")
### Dataset Information
# Dataset Info
df.info()
#### Duplicate Values
# Dataset Duplicate Value Count
duplicate_rows = df.duplicated().sum()
print(f"There are {duplicate_rows} duplicate_rows in the dataset")
#### Missing Values/Null Values
# Missing Values/Null Values Count
missing_values = df.isnull().sum()
print(missing_values)
# Visualizing the missing values
plt.figure(figsize=(8, 6))
sns.heatmap(df.isnull(), cmap='viridis', cbar=False)
plt.title('Missing Values Heatmap')
plt.show()
### What did you know about your dataset?
**Dataset Size:** The dataset is quite large, containing 181,691 entries or rows.

**Feature Quantity:** The dataset contains 135 features or columns.

**Data Types:** The dataset has a mix of data types. There are 55 features with floating point numbers (float64), 22 features with integers (int64), and 58 features with objects (object). The object datatype in pandas typically means the column contains string (text) data.

**Memory Usage:** The dataset uses over 187.1 MB of memory.

**Missing Values:** There are some columns with a large number of missing values. For example, the 'approxdate' column has 172,452 missing. Values and the 'related' column has 156,653 missing values. However, several columns do not have any missing values, such as 'eventid', 'iyear', 'imonth', 'iday', 'INT_LOG', 'INT_IDEO', 'INT_MISC', and 'INT_ANY'.

**Duplicate Values:** There are no duplicate values in the dataset.


## ***2. Understanding Your Variables***
# Dataset Columns
columns = df.columns

print("Columns in the dataset: ")

for column in columns:
  print(column)
# Dataset Describe : dataset summary is provided in the Data wrangling section
### Variables Description
**eventid:** Unique ID for each event or terrorist attack.

**iyear:** Year the terrorist attack occurred.

**imonth:** Month the terrorist attack occurred.

**iday:** Day the terrorist attack occurred.

**country_txt:** Name of the country where the terrorist attack occurred.

**region_txt:** Name of the region where the terrorist attack occurred.

**city:** City where the terrorist attack occurred.

**attacktype1_txt:** The general method of attack employed.

**target1:** The specific person, building, installation, etc., that was targeted.

**nkill:** Number of confirmed fatalities for the incident.

**nwound:** Number of confirmed non-fatal injuries.

**gname:** Name of the group that carried out the attack.
### Check Unique Values for each variable.
# Check Unique Values for each variable.
unique_country = df['country_txt'].unique()
print(unique_country)

print()                 #this satement leaves a gap in the output.

unique_years = df['iyear'].unique()
print(unique_years)
## 3. ***Data Wrangling***
### Data Wrangling Code
# Selecting the relevent columns for our anaysis:
df = df[["iyear","imonth","iday","country_txt","region_txt","provstate","city",
       "latitude","longitude","location","summary","attacktype1_txt","targtype1_txt",
       "gname","motive","weaptype1_txt","nkill","nwound","addnotes"]]
df
# renaming the columns to their appropriate names:
df.rename(columns={"iyear":"Year","imonth":"Month","iday":"Day","country_txt":"Country",
                   "region_txt":"Region","provstate":"Province/State","city":"City",
                   "latitude":"Latitude","longitude":"Longitude","location":"Location",
                   "summary":"Summary","attacktype1_txt":"Attack Type","targtype1_txt":"Target Type",
                   "gname":"Group Name","motive":"Motive","weaptype1_txt":"Weapon Type",
                   "nkill":"Killed","nwound":"Wounded","addnotes":"Add Notes"},inplace=True)
df.head()
df.tail()
df.info()
# checking the shape of the modified dataset.
rows, cols = df.shape
print(f"There are {rows} rows and {cols} columns in the modified dataset")
# Checking for null values in the modified dataset
df.isnull().sum()
# Manipulating some missing columns
df['Killed'] = df['Killed'].fillna(0)
df['Wounded'] = df["Wounded"].fillna(0)
# Creating a new column "Casualty"
df['Casualty'] = df['Killed']+df['Wounded']
df.tail()
#dataset describe:
df.describe()
### What all manipulations have you done and insights you found?


1.   Selected 19 important columns from 135 columns for our analysis.
2.   Created a new column by name " Casualty".

3.   The data consists of terrorist activities ranging from the year: 1970 to 2017
4.   Maximum number of people killed in an event were: 1570
5.   Maximum number of people wounded in an event were: 8191
6.   Maximum number of total casualties in an event were: 9574






## ***4. Data Vizualization, Storytelling & Experimenting with charts : Understand the relationships between variables***
### **The storytelling and visualizations in this project will be based on these parameters:**


*   Year Wise Attacks.
*   Region wise Attacks.

*   Country Wise Attacks - Top 10.
*   City Wise Attacks - Top 10.

*   Terrorist Group wise Attacks.
*   'Attack Type' wise Attacks.

*   Target Type Wise Attacks.
*   Group + Country wise Attacks - Top 10.

*   Humanity affected(World-wide) by Terrorist Attacks from 1970 - 2017.


### **All of the above parameters will be calculated and visualized on the basis of:**

1.   Number of Attacks.
2.   Total Casualty.

1.   Total people Killed.
2.   Total people Wounded.

















## **1.   Year Wise Attacks**



**a) Number of Attacks in Each Year**



attacks=df["Year"].value_counts(dropna=False).sort_index().to_frame().reset_index().rename(columns={"index":"Year","Year":"Attacks"}).set_index("Year")
attacks.head()
### Chart - 1
# Chart - 1 visualization code
attacks.plot(kind="bar",color="red",figsize=(15,6),fontsize=13)

# Adding title and labels
plt.title("Timeline of Attacks",fontsize=15)
plt.xlabel("Years",fontsize=15)
plt.ylabel("Number of Attacks",fontsize=15)
plt.show()
##### 1. Why did you pick the specific chart?


*   Bar charts are useful when we want to compare the number of attacks across different years easily. The length of the bars provides a clear visual representation of the quantity.
*   Years can be considered as discrete, categorical data. Bar charts are well-suited for displaying the count or frequency of categorical data.




##### 2. What is/are the insight(s) found from the chart?
(i). Most number of attacks(16903) in 2014

(ii). Least number of attacks(471) in 1971
##### 3. Will the gained insights help creating a positive business impact?
Are there any insights that lead to negative growth? Justify with specific reason.


1.   From this chart we can clearly see that terrorist activities have started increasing substantially since 2005.
2.   Countries and their Millitary Organisations can proactively develop strategies to mitigate the terrorism risks.

1.   The chart can prompt an evaluation of the readiness of military organizations to respond to the evolving threat landscape.







#### Chart - 2
### ***b) Total Casualties (Killed + Wounded) in each Year***
cas= df[['Year','Killed']].groupby('Year').sum()
cas.head()
# Chart - 2 visualization code
plt.figure(figsize=(15, 6))
sns.lineplot(data=cas, x='Year', y='Killed', color='red', marker='o', linestyle='--')

# Adding title and labels
plt.title("Year-wise Casualties", fontsize=13)
plt.xlabel("Years", fontsize=13)
plt.ylabel("Number of Casualties", fontsize=13)

# Seting x-axis ticks to display all years
plt.xticks(cas.index, rotation=90, ha='center', fontsize=12)

# Display the chart
plt.show()
##### 1. Why did you pick the specific chart?
A line chart is a suitable choice for visualizing time series data, such as the number of casualties over different years.
##### 2. What is/are the insight(s) found from the chart?


*   The number of casualties(killed + wounded) were Highest in 2014, followed by 2015, 2016 and 2017.
*   The number of casualties(killed + wounded) were Least in 1970 and 1971.


##### 3. Will the gained insights help creating a positive business impact?
Are there any insights that lead to negative growth? Justify with specific reason.


*   Countries and their Governments can proactively develop healthcare facilities to reduce the number of fatal casualties during terrorist attacks.
*   The chart can prompt an evaluation of the readiness of military organizations to respond to the evolving threat landscape.


#### Chart - 3
### ***c) Killed in each Year.***
yk=df[["Year","Killed"]].groupby("Year").sum()
yk.head()
# Chart - 3 visualization code
fig=plt.figure()                # Creates a new figure (empty canvas) for plotting.
ax0=fig.add_subplot(2,1,1)      # Creates a subplot.

yk.plot(kind="bar",color="red",figsize=(15,15),ax=ax0)
ax0.set_title("People Killed in each Year")
ax0.set_xlabel("Years")
ax0.set_ylabel("Number of People Killed")
plt.show()
##### 1. Why did you pick the specific chart?
Bar charts are useful when we want to compare the number of people killed across different years easily. The length of the bars provides a clear visual representation of the quantity.
##### 2. What is/are the insight(s) found from the chart?


*   The number of people Killed were Highest in 2014, followed by 2015, 2016 and 2017.
*   The number of people Killed were Least in 1970 and 1971.


##### 3. Will the gained insights help creating a positive business impact?
Are there any insights that lead to negative growth? Justify with specific reason.




*   Countries and their Governments can proactively develop healthcare facilities to reduce the number of deaths during terrorist attacks
*   The chart can prompt an evaluation of the readiness of military organizations to respond to the evolving threat landscape.




#### Chart - 4
### ***d) Wounded in each Year.***
yw=df[["Year","Wounded"]].groupby("Year").sum()
yw.head()
# Chart - 4 visualization code
plt.figure(figsize=(15, 6))
sns.lineplot(data=yw, x='Year', y='Wounded', color='red', marker='o', linestyle='--')

# Adding title and labels
plt.title("People Wounded in each Year", fontsize=13)
plt.xlabel("Years", fontsize=13)
plt.ylabel("Number of People Wounded", fontsize=13)

# Set x-axis ticks to display all years with center alignment
plt.xticks(yw.index, rotation=90, ha='center', fontsize=12)

# Display the chart
plt.show()
##### 1. Why did you pick the specific chart?

A line chart is a suitable choice for visualizing time series data, such as the number of people Wounded over different years.
##### 2. What is/are the insight(s) found from the chart?


*   The number of people Wounded were Highest in 2015, followed by 2014 and 2016
*   
A significant number of individuals sustaining injuries was also recorded in the year 2013.

*   The number of people Wounded were Least in 1971.




##### 3. Will the gained insights help creating a positive business impact?
Are there any insights that lead to negative growth? Justify with specific reason.


*   Governments and nations can take proactive measures to enhance healthcare infrastructure, addressing the needs of those injured in the aftermath of terrorist attacks.


## **2. Region wise Attacks**
### ***a) Distribution of Terrorist Attacks over Regions from 1970-2017***
reg=pd.crosstab(df.Year,df.Region) # creating a cross-tabulation between the "Year" column and the "Region" column in the DataFrame.
                                   # It counts the occurrences of each combination of year and region.
                                   # It's a useful way to analyze and understand the distribution of data across these two categorical variables.
reg.head()
#### Chart - 5
# Chart - 5 visualization code
reg.plot(kind="area", stacked=False, alpha=0.5,figsize=(20,10))
                                              # With the stacked=False parameter, each region's contribution is shown separately rather than being stacked on top of each other

plt.title("Region wise attacks",fontsize=20)
plt.xlabel("Years",fontsize=20)
plt.ylabel("Number of Attacks",fontsize=20)
plt.show()

##### 1. Why did you pick the specific chart?
Area plots are effective for visualizing trends over time. They provide a clear view of how the overall number of attacks changes across different regions in each year.
##### 2. What is/are the insight(s) found from the chart?


*   "Middle East & North Africa" suffered the Most number of Terrorist attacks.
*   "Australasia & Oceania" has the Least number of Terrorist attacks.


##### 3. Will the gained insights help creating a positive business impact?
Are there any insights that lead to negative growth? Justify with specific reason.


*   ***Positive Impact***: Industries related to security technologies, risk assessment tools, and crisis management solutions may find increased demand in regions facing higher terrorism risks. Businesses in these sectors may explore opportunities to provide innovative solutions to address security challenges
*   ***Positive Impact***: Knowledge about the regions with lower incidence of terrorism, such as Australia and Oceania, can inform market expansion strategies. Businesses may consider these regions as relatively safer environments for investment and market entry.


*  ***Negative Impact***:  Insights about regions with higher terrorism risks can impact insurance and financial planning. Businesses operating in high-risk areas may face higher insurance premiums, and financial planning may need to account for potential disruptions due to security incidents.





#### Chart - 6
### ***b) Total Terrorist Attacks in each Region from 1970-2017***
regt=reg.transpose()                                    # Swapping the rows and columns of the earlier created DataFrame 'reg'.

regt['Total']=regt.sum(axis=1)                          # Creating a new column "Total". Values in this column are computed by summing up the values along each row (axis=1).

raord=regt['Total'].sort_values(ascending=False)        # sorting the values of the "Total" column of the transpose DataFrame "regt" in descending order (high to low).
raord
# Chart - 6 visualization code
raord.plot(kind="bar",color="red", figsize=(15,6))
plt.title("Total Number of Attacks in each Region from 1970-2017")
plt.xlabel("Region")
plt.ylabel("Number of Attacks")
plt.show()
##### 1. Why did you pick the specific chart?
Bar charts prove effective when the objective is to easily compare the total number of Terrorist attacks in different regions across different years. The length of the bars serves as a clear visual indicator, facilitating straightforward comparisons.
##### 2. What is/are the insight(s) found from the chart?


*   "Middle East & North Africa" suffered the Most number of Terrorist attacks.
*   "Australasia & Oceania" has the Least number of Terrorist attacks.


##### 3. Will the gained insights help creating a positive business impact?
Are there any insights that lead to negative growth? Justify with specific reason.


*   ***Positive Impact***: Industries related to security technologies, risk assessment tools, and crisis management solutions may find increased demand in regions facing higher terrorism risks. Businesses in these sectors may explore opportunities to provide innovative solutions to address security challenges
*   ***Positive Impact***: Knowledge about the regions with lower incidence of terrorism, such as Australia and Oceania, can inform market expansion strategies. Businesses may consider these regions as relatively safer environments for investment and market entry.

*   ***Negative Impact***: Insights about regions with higher terrorism risks can impact insurance and financial planning. Businesses operating in high-risk areas may face higher insurance premiums, and financial planning may need to account for potential disruptions due to security incidents.





#### Chart - 7
### ***c) Total Casualties (Killed + Wounded) in each Region***
rc=df[["Region","Casualty"]].groupby("Region").sum().sort_values(by="Casualty",ascending=False)
rc
# Chart - 7 visualization code
rc.plot(kind="bar",color="red",figsize=(15,6))
plt.title("Region wise Casualties",fontsize=13)
plt.xlabel("Regions",fontsize=13)
plt.xticks(fontsize=12)
plt.ylabel("Number of Casualties",fontsize=13)
plt.show()
##### 1. Why did you pick the specific chart?
Bar charts prove effective when the objective is to easily compare the total number of Casualties in different regions. The length of the bars serves as a clear visual indicator, facilitating straightforward comparisons.
##### 2. What is/are the insight(s) found from the chart?


*   "Middle East & North Africa" suffered the Most number of Casualties.
*   "Australasia & Oceania" has the Least number of Casualties.


##### 3. Will the gained insights help creating a positive business impact?
Are there any insights that lead to negative growth? Justify with specific reason.


*   ***Positive Impact***: Regions with lower casualties (like "Australasia & Oceania") may be considered safer for investments and business operations. Companies might find these areas attractive for expansion, leading to potential economic growth.
*   ***Negative Impact***: Higher casualties in a region can indicate political instability, conflicts, or social unrest. These factors can negatively impact the business environment, leading to market uncertainty and potential disruptions.


#### Chart - 8
### ***d) Killed in each Region***
rk=df[['Killed','Region']].groupby("Region").sum().sort_values(by='Killed', ascending=False)
rk
### ***e) Wounded in each Region***
rw=df[["Region","Wounded"]].groupby("Region").sum().sort_values(by="Wounded",ascending=False)
rw
# Chart - 8 visualization code
fig=plt.figure()                       # Creates a new figure
ax0=fig.add_subplot(1,2,1)             # Adds the first subplot to the figure. This subplot is positioned in the first column.
ax1=fig.add_subplot(1,2,2)             # Adds the second subplot to the figure. This subplot is positioned in the second column.

#Killed
rk.plot(kind="bar",color="red",figsize=(15,6),ax=ax0)
ax0.set_title("People Killed in each Region")
ax0.set_xlabel("Regions")
ax0.set_ylabel("Number of People Killed")

#Wounded
rw.plot(kind="bar",color="red",figsize=(15,6),ax=ax1)
ax1.set_title("People Wounded in each Region")
ax1.set_xlabel("Regions")
ax1.set_ylabel("Number of People Wounded")

plt.show()
##### 1. Why did you pick the specific chart?
Bar charts are useful when we want to compare the number of people killed and Wounded across different regions easily. The length of the bars provides a clear visual representation of the quantity.
##### 2. What is/are the insight(s) found from the chart?


*   Most number of people from "Middle East & North Africa" are either Killed or wounded.
*   Least number of people from "Australia and Oceania" are Killed or wounded.


##### 3. Will the gained insights help creating a positive business impact?
Are there any insights that lead to negative growth? Justify with specific reason.
Security Measures for "Middle East & North Africa":

*   Increase the presence of security personnel and deploy advanced surveillance technologies.
*   Support and promote diplomatic efforts for conflict resolution to address the root causes of violence in the region.

Healthcare Measures for "Middle East & North Africa":

*   Strengthen emergency medical services to ensure rapid response and effective care for those injured in incidents.
*   Improve and expand trauma care facilities to provide specialized medical treatment for individuals with severe injuries.




## ***3. Country wise Attacks - Top 10***
### ***a) Number of Attacks in each Country***
ct=df["Country"].value_counts().head(10)
ct
#### Chart - 9
# Chart - 9 visualization code
plt.figure(figsize=(15, 6))
ct.plot(kind="pie", autopct='%1.1f%%', colors=["red", "orange", "yellow", "green", "blue", "purple", "brown", "pink", "gray", "cyan"])

# Adding title and labels
plt.title("Country-wise Attacks - Top 10", fontsize=13)
plt.xlabel("Countries", fontsize=13)
plt.ylabel("")  # Empty ylabel for better aesthetics

# Display the chart
plt.show()
##### 1. Why did you pick the specific chart?
Pie charts are good for emphasizing dominant or significant categories. In this case, it helps to highlight the countries with the highest number of attacks.
##### 2. What is/are the insight(s) found from the chart?


*   Most number of terrorists attacks in the whole world is suffered by : Iraq.
*   India is in the 4th position among the top 10 countries heavily affected by Terrorist Attacks.


##### 3. Will the gained insights help creating a positive business impact?
Are there any insights that lead to negative growth? Justify with specific reason.
***Positive Impact***: There is an opportunity for businesses specializing in security solutions, including technology-based security systems, risk assessment services, and consulting. Companies offering services to enhance security measures may find increased demand in regions prone to terrorist activities.

***Negative Impact***: Countries with a high risk of terrorism may experience a decline in tourism. Businesses in the hospitality and tourism sectors could be adversely affected, leading to decreased revenue and potential job losses
#### Chart - 10
### ***b) Total Casualties (Killed + Wounded) in each Country***
cnc=df[["Country","Casualty"]].groupby("Country").sum().sort_values(by="Casualty",ascending=False)
cnc.head(10)
# Chart - 10 visualization code
cnc[:10].plot(kind="bar",color="red",figsize=(15,6))             # selects the 1st 10 countries
plt.title("Top 10 Country wise Casualties",fontsize=13)
plt.xlabel("Countries",fontsize=13)
plt.xticks(fontsize=12)
plt.ylabel("Number of Casualties",fontsize=13)
plt.show()
##### 1. Why did you pick the specific chart?
Bar charts are useful when we want to compare the total number of casualities in different countries easily. The length of the bars provides a clear visual representation of the quantity.
##### 2. What is/are the insight(s) found from the chart?


*   Iraq has the highest number of Casualties(killed + wounded) due to terrorist
attacks.
*   India has the 4th highest Casualties(Killed + Wounded) due to terrorists attcks


##### 3. Will the gained insights help creating a positive business impact?
Are there any insights that lead to negative growth? Justify with specific reason.
***Positive Impact:*** Businesses engaged in humanitarian aid and support services may find opportunities to contribute positively in regions with high casualties. Initiatives focused on community development, healthcare, and relief efforts can make a positive impact.

***Negative Impact***: Businesses operating in regions with a high number of casualties may face reputational risks. Negative associations with violence and instability can impact consumer perception and trust in the brand.
#### Chart - 11
### c) ***Killed in each country***
cnk=df[['Killed', 'Country']].groupby('Country').sum().sort_values(by='Killed', ascending=False)
cnk.head(10)
### ***d) Wounded in each Country***
cnw=df[["Country","Wounded"]].groupby("Country").sum().sort_values(by="Wounded",ascending=False)
cnw.head(10)
# Chart - 11 visualization code
fig=plt.figure()
ax0=fig.add_subplot(1,2,1)
ax1=fig.add_subplot(1,2,2)

#Killed
cnk[:10].plot(kind="bar",color="red",figsize=(15,6),ax=ax0)
ax0.set_title("People Killed in top-10 terrorist affected Country")
ax0.set_xlabel("Countries")
ax0.set_ylabel("Number of People Killed")

#Wounded
cnw[:10].plot(kind="bar",color="red",figsize=(15,6),ax=ax1)
ax1.set_title("People Wounded in top-10 terrorist affected Country")
ax1.set_xlabel("Countries")
ax1.set_ylabel("Number of People Wounded")

plt.show()

##### 1. Why did you pick the specific chart?
Bar charts are useful when we want to compare the total number of Killed and Wounded people in different countries easily. The length of the bars provides a clear visual representation of the quantity.
##### 2. What is/are the insight(s) found from the chart?


*   Most number of people killed are from: Iraq.
*   Least number of people Killed are from: El salvador.



*   Most number of people Wounded are from: Iraq
*   Least number of people Wounded are from: Columbia.




##### 3. Will the gained insights help creating a positive business impact?
Are there any insights that lead to negative growth? Justify with specific reason.
***Positive Impact***: Governments in countries with high casualties may invest in security infrastructure and services. Businesses operating in the defense and security sector might find opportunities for government contracts to address security concerns.
## ***4. City wise Attacks - Top 10***
### ***a) Number of Attacks in each city***
city=df["City"].value_counts()[1:11] # Slices the Series to include only the elements from index 1 to index 10. It selects the top 10 cities with the highest counts.
city
#### Chart - 12
# Chart - 12 visualization code
plt.figure(figsize=(15, 6))
city.plot(kind="pie", autopct='%1.1f%%', colors=["red", "orange", "yellow", "green", "blue", "purple", "brown", "pink", "gray", "cyan"])

# Adding title and labels
plt.title("City-wise Attacks - Top 10", fontsize=13)
plt.xlabel("Cities", fontsize=13)
plt.ylabel("")  # Empty ylabel for better aesthetics

# Display the chart
plt.show()

##### 1. Why did you pick the specific chart?
Pie charts are good for emphasizing dominant or significant categories. In this case, it helps to highlight the cities with the highest number of attacks.
##### 2. What is/are the insight(s) found from the chart?


*   Baghdad - capital of Iraq suffered the highest number of terrorist attacks

*   Athens - capital of Greece suffered the least number of terrorist attacks.





##### 3. Will the gained insights help creating a positive business impact?
Are there any insights that lead to negative growth? Justify with specific reason.
***Positive Impact***: Companies providing emergency response and recovery services might find an increased demand for their services in areas prone to terrorist attacks. This could lead to positive business growth opportunities.

***Negative Impact***: Frequent terrorist attacks in a region, especially the capital city, can have a significant negative impact on the tourism and hospitality industry. Businesses in these sectors may experience reduced tourist inflow and face challenges in attracting investments.
#### Chart - 13
### ***b) Total Casualties (Killed + Wounded) in each City***
cc=df[["City","Casualty"]].groupby("City").sum().sort_values(by="Casualty",ascending=False).drop("Unknown")
cc.head(10)
# Chart - 12 visualization code
cc[:10].plot(kind="bar",color="red",figsize=(15,6))
plt.title("City wise Casualties",fontsize=13)
plt.xlabel("Cities",fontsize=13)
plt.xticks(fontsize=12)
plt.ylabel("Number of Casualties",fontsize=13)
plt.show()
##### 1. Why did you pick the specific chart?
Bar charts are useful when we want to compare the Total Casualties (Killed + Wounded) in each City easily. The length of the bars provides a clear visual representation of the quantity.
##### 2. What is/are the insight(s) found from the chart?


*   The highest number of Casulaties(killed + wounded) are from Baghdad followed by New York City.
*   The least number of Casulaties(Killed + wounded) are from Aleppo(Syria)


##### 3. Will the gained insights help creating a positive business impact?
Are there any insights that lead to negative growth? Justify with specific reason.
***Positive Impact***: In cities with high casualties, there may be opportunities for businesses involved in infrastructure development and reconstruction. Government initiatives and private investments might lead to projects aimed at improving safety and resilience.

***Negative Impact***: Local businesses in cities with high casualties may face challenges related to reputation damage. Consumer perceptions of safety could affect the growth and success of businesses in these regions.
#### Chart - 14
### ***c) Killed in each City***
ck=df[["City","Killed"]].groupby("City").sum().sort_values(by="Killed",ascending=False).drop("Unknown")
ck.head(10)
### ***d) Wounded in each City***
cw=df[["City","Wounded"]].groupby("City").sum().sort_values(by="Wounded",ascending=False).drop("Unknown")
cw.head(10)
# Chart - 13 visualization code
fig=plt.figure()
ax0=fig.add_subplot(1,2,1)
ax1=fig.add_subplot(1,2,2)

#Killed
ck[:10].plot(kind="bar",color="red",figsize=(15,6),ax=ax0)
ax0.set_title("People Killed in each City")
ax0.set_xlabel("Cities")
ax0.set_ylabel("Number of People Killed")

#Wounded
cw[:10].plot(kind="bar",color="red",figsize=(15,6),ax=ax1)
ax1.set_title("People Wounded in each City")
ax1.set_xlabel("Cities")
ax1.set_ylabel("Number of People Wounded")

plt.show()
##### 1. Why did you pick the specific chart?
Bar charts are useful when we want to compare the Total number of people Killed and wounded in each City easily. The length of the bars provides a clear visual representation of the quantity.
##### 2. What is/are the insight(s) found from the chart?


*   Baghdad has the highest number of Killed and Wounded rates.
*   Aleppo and Mogadishu has the lowest number of Killed and Wounded rates respectively.


3. Will the gained insights help creating a positive business impact?


Are there any insights that lead to negative growth? Justify with specific reason.
***Positive Impact***: Cities with high casualties may require enhanced emergency medical services and healthcare infrastructure. Businesses involved in healthcare, trauma care, and medical equipment manufacturing may find growth opportunities.

***Negative Impact***: High casualty rates can deter tourism and impact the hospitality industry. Businesses in tourism, hotels, and related services may experience negative growth due to reduced visitor numbers and perceptions of insecurity.


## ***5. Terrorist Group wise Attacks - Top 10***
### ***a) Number of Attacks by each Group***
grp=df["Group Name"].value_counts()[1:10]
grp
#### Chart - 15
# Chart - 15 visualization code
plt.figure(figsize=(15, 6))
grp.plot(kind="pie", autopct='%1.1f%%', colors=["red", "orange", "yellow", "green", "blue", "purple", "brown", "pink", "gray", "cyan"])

# Adding title and labels
plt.title("Terrorist Group-wise Attacks - Top 10", fontsize=13)
plt.xlabel("Terrorists groups", fontsize=13)
plt.ylabel("")  # Empty ylabel for better aesthetics

# Display the chart
plt.show()
##### 1. Why did you pick the specific chart?
Pie charts are good for emphasizing dominant or significant categories. In this case, it helps to highlight the Terrorists groups carrying out the highest number of attacks.
##### 2. What is/are the insight(s) found from the chart?


*   Most number of attacks are carried out by: Taliban.
*   Least number of attacks are carried out by: Boko Haram.


### Chart - 16


### ***b) Total Casualties(Killed + Wounded) by each Group***
gc=df[["Group Name","Casualty"]].groupby("Group Name").sum().sort_values(by="Casualty",ascending=False).drop("Unknown")
gc.head(10)
# Chart - 16 visualization code
gc.head(10).plot(kind="bar",color="red",figsize=(15,6))
plt.title("Casualties by each Group",fontsize=13)
plt.xlabel("Terrorist Groups",fontsize=13)
plt.xticks(fontsize=12)
plt.ylabel("Number of Casualties",fontsize=13)
plt.show()
##### 1. Why did you pick the specific chart?
Bar charts are useful when we want to compare the Total Casualities(Killed + Wounded) by Terrorist Groups easily. The length of the bars provides a clear visual representation of the quantity.
##### 2. What is/are the insight(s) found from the chart?


*   Highest number of Casualities(Killed + Wounded) are caused by : Islamic State of Iraq and the Levant(ISIL)
*  Highest number of Casualities(Killed + Wounded) are caused by : Farabundo Marti National Liberation Front(FMLN).


### Chart - 17
### ***c) Killed by each Group***
gk=df[["Group Name","Killed"]].groupby("Group Name").sum().sort_values(by="Killed",ascending=False).drop("Unknown")
gk.head(10)
### ***d) Wounded by each Group***
gw=df[["Group Name","Wounded"]].groupby("Group Name").sum().sort_values(by="Wounded",ascending=False).drop("Unknown")
gw.head(10)
# Chart - 17 visualization code
fig=plt.figure()
ax0=fig.add_subplot(1,2,1)
ax1=fig.add_subplot(1,2,2)

#Killed
gk[:10].plot(kind="bar",color="red",figsize=(15,6),ax=ax0)
ax0.set_title("People Killed by each Group")
ax0.set_xlabel("Terrorist Groups")
ax0.set_ylabel("Number of people Killed")

#Wounded
gw[:10].plot(kind="bar",color="red",figsize=(15,6),ax=ax1)
ax1.set_title("People Wounded by each Group")
ax1.set_xlabel("Terrorist Groups")
ax1.set_ylabel("Number of people Wounded")
plt.show()
##### 1. Why did you pick the specific chart?



Bar charts are useful when we want to compare the Total number of people Killed and Wounded by Terrorist Groups easily. The length of the bars provides a clear visual representation of the quantity.
##### 2. What is/are the insight(s) found from the chart?


*   Highest number of People killed and Wounded by : Islamic State of Iraq and the Levant (ISIL)



## ***6. Attack Type wise Attacks***
### ***a) Number of Attacks by each Attack Type***
at=df["Attack Type"].value_counts()
at
### Chart - 18
# Chart - 18 visualization code
at.plot(kind="bar",color="red",figsize=(15,6))
plt.title("Types of Attacks",fontsize=13)
plt.xlabel("Attack Types",fontsize=13)
plt.xticks(fontsize=12)
plt.ylabel("Number of Attacks",fontsize=13)
plt.show()
##### 1. Why did you pick the specific chart?
Bar charts are useful when we want to compare the different types of attacks  by Terrorist Groups easily. The length of the bars provides a clear visual representation of the quantity.
##### 2. What is/are the insight(s) found from the chart?


*   Most Terrorists activities are carried through : Bombing.
*   Least Terrorists activities are carried through : Hijacking.


### Chart - 19
### ***b) Total Casualties (Killed + Wounded) by each Attack Type :***
ac=df[["Attack Type","Casualty"]].groupby("Attack Type").sum().sort_values(by="Casualty",ascending=False)
ac
# Chart - 19 visualization code.
ac.plot(kind="bar",color="red",figsize=(15,6))
plt.title("Casualties in each Attack",fontsize=13)
plt.xlabel("Attack Types",fontsize=13)
plt.xticks(fontsize=12)
plt.ylabel("Number of Casualties",fontsize=13)
plt.show()
##### 1. Why did you pick the specific chart?
Bar charts are useful when we want to compare the Casulalities in different types of attacks by Terrorist Groups easily. The length of the bars provides a clear visual representation of the quantity.
2. What is/are the insight(s) found from the chart?


*   Most Casualties caused by : Bombing.
*   Least Casualties caused by : Facility/Infrastructure Attack.


### Chart - 20
### ***c) Killed by each Attack Type***
ak=df[["Attack Type","Killed"]].groupby("Attack Type").sum().sort_values(by="Killed",ascending=False)
ak
### ***d) Wounded by each Attack Type***
aw=df[["Attack Type","Wounded"]].groupby("Attack Type").sum().sort_values(by="Wounded",ascending=False)
aw
# Chart - 20 visualization code
fig=plt.figure()
ax0=fig.add_subplot(1,2,1)
ax1=fig.add_subplot(1,2,2)

#Killed
ak.plot(kind="bar",color="red",figsize=(15,6),ax=ax0)
ax0.set_title("People Killed in each Attack Type")
ax0.set_xlabel("Attack Types")
ax0.set_ylabel("Number of people Killed")

#Wounded
aw.plot(kind="bar",color="red",figsize=(15,6),ax=ax1)
ax1.set_title("People Wounded in each Attack Type")
ax1.set_xlabel("Attack Types")
ax1.set_ylabel("Number of people Wounded")
plt.show()
1. Why did you pick the specific chart?
Bar charts are useful when we want to compare the Killed and Wounded people in different types of attacks by Terrorist Groups easily. The length of the bars provides a clear visual representation of the quantity.
2. What is/are the insight(s) found from the chart?


*   Highest number of people killed by : Armed Assault.
*   Higest number of people wounded by : Bombing/Explosion.


### ***7. Target Type wise Attacks***
### ***a) Number of Attacks over each Target Type***
ta=df["Target Type"].value_counts()
ta
### Chart - 21
# Chart - 21 visualization code
ta.plot(kind="bar",color="red",figsize=(15,6))
plt.title("Types of Targets",fontsize=13)
plt.xlabel("Target Types",fontsize=13)
plt.xticks(fontsize=12)
plt.ylabel("Number of Attacks",fontsize=13)
plt.show()
1. Why did you pick the specific chart?
Bar charts are useful when we want to compare "The types of Attacks" by Terrorist Groups easily. The length of the bars provides a clear visual representation of the quantity.

2. What is/are the insight(s) found from the chart?


*   Most number of Attacts made on : Private Citizens & Property followed by Military and Police.



### Chart - 22
### ***2. Total Casualties(Killed + Wounded) in each Target Type***
tc=df[["Target Type","Casualty"]].groupby("Target Type").sum().sort_values(by="Casualty",ascending=False)
tc
# Chart - 22 Visualization code
tc.plot(kind="bar",color="red",figsize=(15,6))
plt.title("Casualties in each Target Attack",fontsize=13)
plt.xlabel("Target Types",fontsize=13)
plt.xticks(fontsize=12)
plt.ylabel("Number of Casualties",fontsize=13)
plt.show()
1. Why did you pick the specific chart?
Bar charts are useful when we want to compare "Total Casualties" caused by  "The types of Attacks" by Terrorist Groups easily. The length of the bars provides a clear visual representation of the quantity.
2. What is/are the insight(s) found from the chart?


*   Most Casualties(Killed + Wounded) by Terrorists attacks are from : Private Citizens and Property followed by Military and Police.



### Chart - 23
### ***c) Killed in each target type***
tk=df[["Target Type","Killed"]].groupby("Target Type").sum().sort_values(by="Killed",ascending=False)
tk
### ***d) Wounded in each target type***
tw=df[["Target Type","Wounded"]].groupby("Target Type").sum().sort_values(by="Wounded",ascending=False)
tw
# Chart - 23 visualization code
fig=plt.figure()
ax0=fig.add_subplot(1,2,1)
ax1=fig.add_subplot(1,2,2)

#Killed
tk.plot(kind="bar",color="red",figsize=(17,6),ax=ax0)
ax0.set_title("People Killed in each Target Attack")
ax0.set_xlabel("Target Types")
ax0.set_ylabel("Number of people Killed")

#Wounded
tw.plot(kind="bar",color="red",figsize=(17,6),ax=ax1)
ax1.set_title("People Wounded in each Target Attack")
ax1.set_xlabel("Target Types")
ax1.set_ylabel("Number of people Wounded")
plt.show()
1. Why did you pick the specific chart?
Bar charts are useful when we want to compare "Total Killed and Wounded" caused by "The types of Attacks" by Terrorist Groups easily. The length of the bars provides a clear visual representation of the quantity.
2. What is/are the insight(s) found from the chart?


*   Highest number of people Killed & Wounded are from "Private Citizens & Property" Target type.
*   Least number of people Killed & Wounded are from "Abortion Related" Target type.


## ***8. Group + Country wise - Top10***
### ***a) Sorting by number of Attacks***
gca=df[["Group Name","Country"]].value_counts().drop("Unknown")
top_10_countries = gca.head(10)
top_10_countries
### Chart - 24
# Chart - 24 visualization code.
plt.figure(figsize=(10, 10))
plt.pie(top_10_countries, labels=top_10_countries.index, autopct="%1.1f%%", startangle=140,  colors=["red", "yellow", "green", "orange", "blue", "purple", "brown", "pink", "gray", "cyan"])

# Adding a title
plt.title("Distribution of Attacks by a Particular Group in Top 10 Countries", fontsize=13)

# Display the plot
plt.show()
1. Why did you pick the specific chart?
Pie charts are good for emphasizing dominant or significant categories. In this case, it helps to highlight the "Distribution of Attacks by a Particular Group in Top 10 Countries".
2. What is/are the insight(s) found from the chart?


*   Most number of attacks :"Taliban" in "Afghanistan"
*   Least number of attacks : "Boko Haram" in "Nigeria"


### Chart - 25
### ***b) Sorting by Number of Casualties***
gcc=df[["Group Name","Country","Casualty"]].groupby(["Group Name","Country"],axis=0).sum().sort_values(by="Casualty",ascending=False).drop("Unknown").head(10)
gcc
# Chart - 25 visualization code
gcc.plot(kind="bar",color="red",figsize=(15,6))
plt.title("Countries with most casualties by a particular Group",fontsize=13)
plt.xlabel("(Terrorist Group,Country)",fontsize=13)
plt.xticks(fontsize=12)
plt.ylabel("Number of Casualties",fontsize=13)
plt.show()
1. Why did you pick the specific chart?
Bar charts are useful when we want to compare "Countries with most casualties by a particular Group"  easily. The length of the bars provides a clear visual representation of the quantity.
2. What is/are the insight(s) found from the chart?


*   Most number of casualties : 57140 by "Taliban" in "Afghanistan"
*   Least number of casualties : 12068 by "Farabundo Marti National Liberation Front (FMLN)" in "El Salvador"


### ***Chart - 26***
### ***c) Sorting by number of people killed***
gck=df[["Group Name","Country","Killed"]].groupby(["Group Name","Country"],axis=0).sum().sort_values(by="Killed",ascending=False).drop("Unknown").head(10)
gck
### ***d) Sorting by number of people wounded***
gcw=df[["Group Name","Country","Wounded"]].groupby(["Group Name","Country"],axis=0).sum().sort_values(by="Wounded",ascending=False).drop("Unknown").head(10)
gcw
# Chart 26 Visualization code
fig=plt.figure()
ax0=fig.add_subplot(1,2,1)
ax1=fig.add_subplot(1,2,2)

#Killed
gck.plot(kind="bar",color="red",figsize=(17,6),ax=ax0)
ax0.set_title("Countries with most people killed by a particular Group")
ax0.set_xlabel("Terrorist Group, Country")
ax0.set_ylabel("Number of people Killed")

#Wounded
gcw.plot(kind="bar",color="red",figsize=(17,6),ax=ax1)
ax1.set_title("Countries with most people wounded by a particular group")
ax1.set_xlabel("Terrorist Group, Country")
ax1.set_ylabel("Number of people Wounded")
plt.show()
1. Why did you pick the specific chart?
Bar charts are useful when we want to compare "Countries with most Killed and Wounded by a particular Group" easily. The length of the bars provides a clear visual representation of the quantity.
2. What is/are the insight(s) found from the chart?


*   Most number of people killed : 31058 by "Islamic State of Iraq and the Levant (ISIL)" in "Iraq"
*   Least number of people killed : 6014 by "Tehrik-i-Taliban Pakistan (TTP)" in "Pakistan"



*   Most number of people wounded : 27871 by "Taliban" in "Afghanistan"
*   Least number of people wounded : 4795 by "Kurdistan Workers' Party (PKK)" in "Turkey"




## ***Heatmap of correlation***
# Chart - 27 visualization code
fig,axes=plt.subplots(1,1,figsize=(15,6))
sns.heatmap(df.corr(), annot=True)
plt.show()
1. Why did you pick the specific chart?
When dealing with a large number of variables, a correlation heatmap helps in performing multivariate analysis. It allows us to explore relationships between multiple pairs of variables simultaneously.
2. What is/are the insight(s) found from the chart?


*   Positive correlation (values closer to 1) between variables indicates that as one variable increases, the other variable tends to increase as well.
*   Negative correlation (values closer to -1) suggests that as one variable increases, the other variable tends to decrease.


## ***9. Humanity Affected (World-wide) by Terrorist Attacks from 1970 to 2017***
### ***a) Total Casualties (Killed + Wounded) due to Terrorist Attacks***
casualty=df.loc[:,"Casualty"].sum()
print("Total number of Casualties due to Terrorist Attacks from 1970 to 2017 across the world :\n",casualty)
### ***b) Killed due to Terrorist Attacks***
kill=df.loc[:,"Killed"].sum()
print("Total number of people killed due to Terrorist Attacks from 1970 to 2017 across the world :\n",kill)
### ***c) Wounded due to Terrorist Attack***
wound=df.loc[:,"Wounded"].sum()
print("Total number of people wounded due to Terrorist Attacks from 1970 to 2017 across the world :\n",wound)
## **5. Solution to Business Objective**
#### What do you suggest the client to achieve Business Objective ?
Explain Briefly.
Based on the exploratory data analysis conducted on the Global Terrorism Dataset, there are several recommendations that could be provided to a client interested in using this information to decrease the impact of terrorism, and thereby meet the stated business objective.

*   Focus on Hotspot Regions: The regions with the highest frequencies of terrorist activities should be prioritized for intervention efforts. These regions may need more robust security measures, targeted socio-economic programs to address root causes of terrorism, or more substantial international assistance.
*   Understand Yearly Trends: Keeping track of the rise or fall of terrorist incidents over the years could help forecast potential future threats and adjust counter-terrorism strategies accordingly.

*   Prioritize Major Threat Groups: Our analysis shows that certain terrorist groups are more active than others. Intelligence efforts should be concentrated on these high-impact groups to prevent future attacks.
*   Target Most Common Attack Types: Understanding the most common types of attacks used by terrorists can help in developing preventive measures and response strategies. For instance, if bombings are the most common attack type, more resources could be directed towards bomb detection and disposal.




# **Conclusion**
The Exploratory Data Analysis (EDA) conducted on the Global Terrorism Dataset provided significant insights into trends and patterns in global terrorism from 1970 through 2017. With the help of the Python libraries Pandas, Matplotlib, Seaborn, and NumPy, we were able to handle, visualize and interpret complex data related to terrorist activities.

Through this analysis, we identified trends over time, regional hotspots, dominant terrorist groups, and preferred modes of attacks. All these findings are crucial for devising effective counter-terrorism strategies and interventions.

The process underscored the power of data-driven decision-making. By using EDA, we were able to transform raw data into meaningful insights. For instance, understanding that certain regions are more prone to terrorist attacks or that specific terrorist groups are more active allows security agencies and policymakers to allocate resources more efficiently, thereby potentially saving lives and property.

However, while this data analysis provides a robust foundation, it's important to acknowledge that addressing terrorism requires more than just understanding past data. It necessitates a comprehensive approach that includes current intelligence, geopolitical considerations, and on-the-ground realities.

To conclude, this project demonstrates the potential of data analysis in informing and shaping counter-terrorism efforts. It provides a useful starting point for further study and action, emphasizing the importance of continuous data collection, analysis, and interpretation in tackling global security challenges like terrorism.


### ***Hurrah! You have successfully completed your EDA Capstone Project !!!***
